{
 "cells": [
  {
   "cell_type": "markdown",
   "id": "f3e90d8d-e702-48eb-999c-092eaf374708",
   "metadata": {
    "tags": []
   },
   "source": [
    "# Altair"
   ]
  },
  {
   "cell_type": "markdown",
   "id": "61f67790-0072-4bce-8c83-38cb1ce67e9b",
   "metadata": {
    "tags": []
   },
   "source": [
    "### Disabling max rows"
   ]
  },
  {
   "cell_type": "code",
   "execution_count": null,
   "id": "cf94661b-6b01-43d4-a64f-7c0ea58ce992",
   "metadata": {},
   "outputs": [],
   "source": [
    "alt.data_transformers.disable_max_rows()"
   ]
  },
  {
   "cell_type": "markdown",
   "id": "69a2aa29-8417-4757-bfe1-4976268ef0c6",
   "metadata": {
    "tags": []
   },
   "source": [
    "### Sorting Axis Values "
   ]
  },
  {
   "cell_type": "code",
   "execution_count": null,
   "id": "bba6920c-6189-4910-b56e-87c5c3f60f7f",
   "metadata": {},
   "outputs": [],
   "source": [
    "x = alt.X(\"source_page:N\",sort='-y')"
   ]
  },
  {
   "cell_type": "markdown",
   "id": "7c4c8067-46bf-42da-b32a-720f196293d6",
   "metadata": {
    "tags": []
   },
   "source": [
    "### Axis attribute (very useful)"
   ]
  },
  {
   "cell_type": "code",
   "execution_count": null,
   "id": "5d714614-4d6e-491d-8e51-2d85377e942e",
   "metadata": {},
   "outputs": [],
   "source": [
    "x= alt.X('whatever:Q',\n",
    "         title='yourtitle'\n",
    "         axis=alt.Axis(labelAngle=-50,                     # modify the inclination of the lables\n",
    "                       format='.0%',                       # modify the format (percentages)\n",
    "                       scale= alt.Scale(domain[start,end]) # modify the range of the axis\n",
    "                      )\n",
    "        )"
   ]
  },
  {
   "cell_type": "markdown",
   "id": "a4267201-eb52-42b7-abc9-0b9ae44ab8ee",
   "metadata": {
    "tags": []
   },
   "source": [
    "### LinePlot with points!"
   ]
  },
  {
   "cell_type": "code",
   "execution_count": null,
   "id": "f7f0b60b-49e9-46f5-9522-2e8fd157b862",
   "metadata": {},
   "outputs": [],
   "source": [
    "alt.Chart(DATA)\n",
    ".mark_line(color='black', #define line color\n",
    "           point=alt.OverlayMarkDef(color='only if you want specific colors for the points')) #define points form and color\n"
   ]
  },
  {
   "cell_type": "markdown",
   "id": "0e4bba95-7a24-4409-a112-d28dada63ac2",
   "metadata": {},
   "source": [
    "### Sharing Plots"
   ]
  },
  {
   "cell_type": "code",
   "execution_count": null,
   "id": "a9d1cd3b-d430-4873-a5f0-132c0558bd26",
   "metadata": {},
   "outputs": [],
   "source": [
    "# General\n",
    "chart= distribution_plots(last_match_per_player,'1')\n",
    "\n",
    "#share\n",
    "shared_plot = chart.vshare(filename=\"GENERAL_Distributions_of_Totaltrophycount_by_Activity_Day\", width=1000, height=600)\n",
    "\n",
    "# get the url\n",
    "print(shared_plot.url)\n",
    "\n",
    "# show the embedded plot\n",
    "shared_plot"
   ]
  },
  {
   "cell_type": "markdown",
   "id": "804d398a-9416-46cf-9251-d176628787a4",
   "metadata": {
    "tags": []
   },
   "source": [
    "# Pandas"
   ]
  },
  {
   "cell_type": "markdown",
   "id": "ef81cb76-3c3c-41a1-b0b9-218ee80a5c10",
   "metadata": {
    "tags": []
   },
   "source": [
    "### Ignore F****ing warnings :(((("
   ]
  },
  {
   "cell_type": "code",
   "execution_count": null,
   "id": "b0d383f4-c9d3-4c95-a8a4-e84027896835",
   "metadata": {},
   "outputs": [],
   "source": [
    "import warnings\n",
    "warnings.filterwarnings(\"ignore\")"
   ]
  },
  {
   "cell_type": "markdown",
   "id": "90d98dba-0b8e-408f-aa01-7819ed4cbb98",
   "metadata": {
    "jp-MarkdownHeadingCollapsed": true,
    "tags": []
   },
   "source": [
    "### Apply function to dataframe row (useful to evaluate stuff with multiple columns over a single row"
   ]
  },
  {
   "cell_type": "code",
   "execution_count": null,
   "id": "937fb4c1-36e2-4c66-91f5-391d1467981d",
   "metadata": {},
   "outputs": [],
   "source": [
    "first_interaction_grouped['cumulative_perc']= (first_interaction_grouped.apply(lambda x:\n",
    "                                                                               first_interaction_grouped[first_interaction_grouped['days_since_install']<=x['days_since_install']]\n",
    "                                                                                .sum()['coreuserid']\n",
    "                                                                               /len(login_data['coreuserid'].unique())\n",
    "                                                                            ,axis=1 #VERY IMPORTANT!!!!\n",
    "                                                                               )\n",
    "                                               )"
   ]
  },
  {
   "cell_type": "markdown",
   "id": "8bfdb513-8caa-4021-81c3-aed229537b50",
   "metadata": {
    "tags": []
   },
   "source": [
    "### Apply function to extract matching value from another dataframe"
   ]
  },
  {
   "cell_type": "code",
   "execution_count": null,
   "id": "e4c458a1-ec55-4cef-96e7-4cec02dd261f",
   "metadata": {},
   "outputs": [],
   "source": [
    "context_source['total']= context_source['bot_profile'].apply(lambda x:\n",
    "                                                     profile_count[profile_count['bot_profile'] == x]['conto']\n",
    "                                                             .values[0] #VERY IMPORTANT!!! \n",
    "                                                    )"
   ]
  },
  {
   "cell_type": "markdown",
   "id": "5270c86e-334f-4447-95a9-c738f9f03d39",
   "metadata": {
    "tags": []
   },
   "source": [
    "### Use an If statement in an Apply"
   ]
  },
  {
   "cell_type": "code",
   "execution_count": null,
   "id": "4d047f39-5d76-4178-a403-003fd7b51d01",
   "metadata": {},
   "outputs": [],
   "source": [
    "next_choice_data_converted['converted'] = (next_choice_data_converted\n",
    "                                           .apply(\n",
    "                                               lambda x: \n",
    "                                                   'True' if 'Go to Discord' in \n",
    "                                                       next_choice_data_converted[next_choice_data_converted['coreuserid']== x['coreuserid']]['next_action'].tolist()\n",
    "                                                   else 'False'\n",
    "                                               ,axis=1\n",
    "                                          )\n",
    "                                        )"
   ]
  },
  {
   "cell_type": "markdown",
   "id": "d44197b2-3531-4dcd-80c9-5686a8b03059",
   "metadata": {
    "tags": []
   },
   "source": [
    "### Create a group identifier for tables formed by with different events "
   ]
  },
  {
   "cell_type": "code",
   "execution_count": null,
   "id": "15768c7e-466b-429d-90ea-697ab66795d6",
   "metadata": {},
   "outputs": [],
   "source": [
    "# The general idea of this trick is to create a common identifier for groups of different events of a time series (or really anything)\n",
    "# Example: starting from mixed match and gui events, you want to create groups containing a match and all the gui events before the next match\n",
    "# HOW???\n",
    "# Step 1: decide your group separator (we work with time so we need to decide a point in time in which to separate the groups) (in the example: every new match)\n",
    "# Step 2: mark with a True any separator event (i.e. when event== Match Start then True, else False)\n",
    "# Step 3: sort by time and use a cumulative sum on the marked colum to create the group identifier (each match and each gui event before the next one will have the same number)\n",
    "# Extra: use groupby during step 3 to divide even more the groups e.g. grouping by coreuserid the identifier will uniquely identify each match of a player and is successive events, \n",
    "#        adding session to the groupby the identifier will identify each different match in a session of a specific player and all the gui events in between."
   ]
  },
  {
   "cell_type": "code",
   "execution_count": null,
   "id": "04e0faa3-f3c7-4aa3-8801-b581f125de65",
   "metadata": {},
   "outputs": [],
   "source": [
    "# Code (very easy)\n",
    "\n",
    "table['marker']= table['event_type'].apply(lambda x:\n",
    "                                                True if x== 'divider_event'\n",
    "                                                else False)\n",
    "\n",
    "table['group_marker']=table.sort_values('clienttimeseconds').groupby('add values to your liking')['marker'].cumsum"
   ]
  },
  {
   "cell_type": "markdown",
   "id": "a3056059-3a04-4b07-83da-1d1746659a49",
   "metadata": {},
   "source": [
    "## Binning"
   ]
  },
  {
   "cell_type": "code",
   "execution_count": null,
   "id": "b3e47963-3807-4331-9fe4-43b20593bf0f",
   "metadata": {},
   "outputs": [],
   "source": [
    "bins = [i for i in range(-200,200)]\n",
    "labels = [i for i in range(-199,200)]\n",
    "df['avg_sharks_binned_2021'] = pd.cut(x = df['avg_sharks_2021'], bins = bins,labels=labels ,include_lowest = True)"
   ]
  }
 ],
 "metadata": {
  "kernelspec": {
   "display_name": "Python 3 (ipykernel)",
   "language": "python",
   "name": "python3"
  },
  "language_info": {
   "codemirror_mode": {
    "name": "ipython",
    "version": 3
   },
   "file_extension": ".py",
   "mimetype": "text/x-python",
   "name": "python",
   "nbconvert_exporter": "python",
   "pygments_lexer": "ipython3",
   "version": "3.11.9"
  }
 },
 "nbformat": 4,
 "nbformat_minor": 5
}
